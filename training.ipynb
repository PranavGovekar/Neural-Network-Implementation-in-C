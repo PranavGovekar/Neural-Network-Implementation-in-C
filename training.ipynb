{
  "cells": [
    {
      "cell_type": "code",
      "execution_count": null,
      "metadata": {
        "id": "CTdYiXNCcuFu"
      },
      "outputs": [],
      "source": [
        "import tensorflow as tf\n",
        "from tensorflow.lite.python.util import convert_bytes_to_c_source\n",
        "from PIL import Image, ImageFilter\n",
        "import cv2\n",
        "import numpy as np\n",
        "import matplotlib.pyplot as plt\n",
        "from tensorflow.keras.utils import to_categorical"
      ]
    },
    {
      "cell_type": "code",
      "execution_count": null,
      "metadata": {
        "colab": {
          "base_uri": "https://localhost:8080/"
        },
        "id": "dbxCitjDh8Pd",
        "outputId": "73c90533-0e34-4fdc-d079-426e0c3b6ee1"
      },
      "outputs": [
        {
          "name": "stdout",
          "output_type": "stream",
          "text": [
            "Downloading data from https://storage.googleapis.com/tensorflow/tf-keras-datasets/mnist.npz\n",
            "11493376/11490434 [==============================] - 0s 0us/step\n",
            "11501568/11490434 [==============================] - 0s 0us/step\n"
          ]
        }
      ],
      "source": [
        "mnist = tf.keras.datasets.mnist\n",
        "(x_train, y_train),(x_test, y_test) = mnist.load_data()"
      ]
    },
    {
      "cell_type": "code",
      "execution_count": null,
      "metadata": {
        "id": "TaSlqhsfrFF2"
      },
      "outputs": [],
      "source": [
        "train16 = []\n",
        "flat = []"
      ]
    },
    {
      "cell_type": "code",
      "execution_count": null,
      "metadata": {
        "id": "LHHkLBnnCiAN"
      },
      "outputs": [],
      "source": [
        "for images in x_train:\n",
        "  temp = Image.fromarray(images)\n",
        "  temp = temp.resize((16,16))\n",
        "  temp = np.array(temp)\n",
        "  flat.append(temp)\n",
        "  temp = temp.flatten()\n",
        "  train16.append(temp)\n",
        "\n",
        "test16 = np.array(train16)\n",
        "flat = np.array(flat)\n",
        "# image = x_train[0]\n",
        "# img = Image.fromarray(image)\n",
        "# display(img)\n",
        "# print(img.size)\n",
        "# img = img.resize((16,16))\n",
        "# print(img.size)\n",
        "# display(img)"
      ]
    },
    {
      "cell_type": "code",
      "execution_count": null,
      "metadata": {
        "id": "5vn3iFQ_cF4g"
      },
      "outputs": [],
      "source": [
        "test16 = []\n",
        "\n",
        "for images in x_test:\n",
        "  temp = Image.fromarray(images)\n",
        "  temp = temp.resize((16,16))\n",
        "  temp = np.array(temp)\n",
        "  temp = temp.flatten()\n",
        "  test16.append(temp)\n",
        "\n",
        "test16 = np.array(test16)"
      ]
    },
    {
      "cell_type": "code",
      "execution_count": null,
      "metadata": {
        "colab": {
          "background_save": true,
          "base_uri": "https://localhost:8080/",
          "height": 381
        },
        "id": "gEjwFcnadFoo",
        "outputId": "443ff6e1-e7b6-44a9-88a1-48894b509a0f"
      },
      "outputs": [
        {
          "name": "stdout",
          "output_type": "stream",
          "text": [
            "array([  0,   0,   0,   0,   0,   0,   0,   0,   0,   0,   0,   0,   0,\n",
            "         0,   0,   0,   0,   0,   0,   0,   0,   0,   0,   0,   0,   0,\n",
            "         0,   0,   0,   0,   0,   0,   0,   0,   0,   0,   0,   0,   0,\n",
            "         0,   0,   0,   0,   0,   0,   0,   0,   0,   0,   0,   0,   0,\n",
            "         0,   0,   0,   0,   0,   0,   0,   0,   0,   0,   0,   0,   0,\n",
            "         0,   0,   0,   0,   0,   0,   0,   0,   0,   0,  14,  55, 105,\n",
            "       112,   0,   0,   0,   0,   0,   0,   0,   0,   0,  33,  80, 150,\n",
            "       205, 228, 227, 144,   0,   0,   0,   0,   0,   0,   2,  56, 190,\n",
            "       224, 229, 112,  58,  51,  29,   0,   0,   0,   0,   0,   0,   0,\n",
            "        77, 244, 215,  87,  25,   0,   0,   0,   0,   0,   0,   0,   0,\n",
            "         0,   0,   0,  54, 216, 236,  74,   0,   0,   0,   0,   0,   0,\n",
            "         0,   0,   0,   0,   0,   0,   0,  20, 192, 130,   0,   0,   0,\n",
            "         0,   0,   0,   0,   0,   0,   0,  72,  56,   0,  13, 215,  85,\n",
            "         0,   0,   0,   0,   0,   0,   0,   0,   0,   0, 124, 220, 141,\n",
            "       172, 200,  19,   0,   0,   0,   0,   0,   0,   0,   0,   0,   0,\n",
            "        17, 111, 160, 109,  35,   0,   0,   0,   0,   0,   0,   0,   0,\n",
            "         0,   0,   0,   0,   0,   0,   0,   0,   0,   0,   0,   0,   0,\n",
            "         0,   0,   0,   0,   0,   0,   0,   0,   0,   0,   0,   0,   0,\n",
            "         0,   0,   0,   0,   0,   0,   0,   0,   0,   0,   0,   0,   0,\n",
            "         0,   0,   0,   0,   0,   0,   0,   0,   0], dtype=uint8)\n"
          ]
        },
        {
          "data": {
            "image/png": "[encoded data removed]",
            "text/plain": [
              "<PIL.Image.Image image mode=L size=16x16 at 0x7F11E31D5C10>"
            ]
          },
          "metadata": {},
          "output_type": "display_data"
        }
      ],
      "source": [
        "index = 85\n",
        "print(repr(train16[index]))\n",
        "img = Image.fromarray(flat[index])\n",
        "display(img)"
      ]
    },
    {
      "cell_type": "code",
      "execution_count": null,
      "metadata": {
        "colab": {
          "base_uri": "https://localhost:8080/"
        },
        "id": "_44jQChCTTrd",
        "outputId": "091e7857-4a0f-4854-d9bd-57de5f10558d"
      },
      "outputs": [
        {
          "name": "stdout",
          "output_type": "stream",
          "text": [
            "<class 'list'>\n",
            "<class 'numpy.ndarray'>\n"
          ]
        }
      ],
      "source": [
        "lol = train16\n",
        "print(type(train16))\n",
        "train16 = np.array(train16)\n",
        "print(type(train16))"
      ]
    },
    {
      "cell_type": "code",
      "execution_count": null,
      "metadata": {
        "id": "DZYe6ZNTZkNE"
      },
      "outputs": [],
      "source": [
        "temp = []\n",
        "for i in range(len(y_train)):\n",
        "    temp.append(to_categorical(y_train[i], num_classes=10))\n",
        "\n",
        "y_train = np.array(temp)"
      ]
    },
    {
      "cell_type": "code",
      "execution_count": null,
      "metadata": {
        "colab": {
          "base_uri": "https://localhost:8080/"
        },
        "id": "Dc7kY2jeafkw",
        "outputId": "eb2807f9-74af-4183-ef90-820a58931d2c"
      },
      "outputs": [
        {
          "name": "stdout",
          "output_type": "stream",
          "text": [
            "[[0. 0. 0. ... 0. 0. 0.]\n",
            " [1. 0. 0. ... 0. 0. 0.]\n",
            " [0. 0. 0. ... 0. 0. 0.]\n",
            " ...\n",
            " [0. 0. 0. ... 0. 0. 0.]\n",
            " [0. 0. 0. ... 0. 0. 0.]\n",
            " [0. 0. 0. ... 0. 1. 0.]]\n"
          ]
        }
      ],
      "source": [
        "print(y_train)"
      ]
    },
    {
      "cell_type": "code",
      "execution_count": null,
      "metadata": {
        "id": "K5-nV0uyrUrl"
      },
      "outputs": [],
      "source": [
        "# print(lol[0][0])\n",
        "# a = lol[0][0]\n",
        "# l = f'{a:08b}'\n",
        "# print(l)\n",
        "\n",
        "for idx,num in enumerate(lol[0]):\n",
        "  l = f'{num:08b}'\n",
        "  print(l)\n",
        "\n",
        "\n"
      ]
    },
    {
      "cell_type": "code",
      "execution_count": null,
      "metadata": {
        "id": "5TADv5a0WSVC"
      },
      "outputs": [],
      "source": [
        "model = tf.keras.models.Sequential()\n",
        "model.add(tf.keras.layers.Dense(10, activation=tf.nn.relu))\n",
        "model.add(tf.keras.layers.Dense(20, activation=tf.nn.relu))\n",
        "model.add(tf.keras.layers.Dense(10, activation=tf.nn.relu))\n",
        "model.compile(optimizer='adam',\n",
        "              loss='categorical_crossentropy',\n",
        "              metrics=['accuracy'])\n"
      ]
    },
    {
      "cell_type": "code",
      "execution_count": null,
      "metadata": {
        "id": "rTFLPq9nbMJs"
      },
      "outputs": [],
      "source": [
        "model.fit(train16, y_train, epochs=60)"
      ]
    },
    {
      "cell_type": "code",
      "execution_count": null,
      "metadata": {
        "colab": {
          "base_uri": "https://localhost:8080/",
          "height": 45
        },
        "id": "yEFPn8pycelj",
        "outputId": "a06e7621-33a5-44df-928b-83ea355b6b3d"
      },
      "outputs": [
        {
          "data": {
            "image/png": "[encoded data removed]",
            "text/plain": [
              "<PIL.Image.Image image mode=L size=28x28 at 0x7F931C9334D0>"
            ]
          },
          "metadata": {},
          "output_type": "display_data"
        }
      ],
      "source": [
        "index = 0\n",
        "# test = np.array([test16[index]])\n",
        "\n",
        "img = Image.fromarray(x_test[index])\n",
        "display(img)\n",
        " \n",
        "# model.predict(test)"
      ]
    },
    {
      "cell_type": "code",
      "execution_count": null,
      "metadata": {
        "colab": {
          "base_uri": "https://localhost:8080/"
        },
        "id": "uQVWHSfPh7Za",
        "outputId": "b255711d-d517-45b2-df97-560a574c6bc4"
      },
      "outputs": [
        {
          "name": "stdout",
          "output_type": "stream",
          "text": [
            "INFO:tensorflow:Assets written to: model_digit16bit/assets\n"
          ]
        }
      ],
      "source": [
        "model.save(\"model_digit16bit\")"
      ]
    },
    {
      "cell_type": "code",
      "execution_count": null,
      "metadata": {
        "colab": {
          "base_uri": "https://localhost:8080/"
        },
        "id": "ECzt39rtOiPn",
        "outputId": "8f2bd94b-74ab-492c-e4e6-1e1fd4297edd"
      },
      "outputs": [
        {
          "name": "stdout",
          "output_type": "stream",
          "text": [
            "  adding: content/model_digit16bit/ (stored 0%)\n",
            "  adding: content/model_digit16bit/assets/ (stored 0%)\n",
            "  adding: content/model_digit16bit/variables/ (stored 0%)\n",
            "  adding: content/model_digit16bit/variables/variables.index (deflated 63%)\n",
            "  adding: content/model_digit16bit/variables/variables.data-00000-of-00001 (deflated 19%)\n",
            "  adding: content/model_digit16bit/keras_metadata.pb (deflated 86%)\n",
            "  adding: content/model_digit16bit/saved_model.pb (deflated 88%)\n"
          ]
        }
      ],
      "source": [
        "!zip -r /content/model.zip /content/model_digit16bit"
      ]
    },
    {
      "cell_type": "code",
      "execution_count": null,
      "metadata": {
        "id": "izoQI_4mHRZw"
      },
      "outputs": [],
      "source": [
        "np.savetxt('mnist.csv', x_train[0], fmt='%d', delimiter=',')"
      ]
    },
    {
      "cell_type": "code",
      "execution_count": null,
      "metadata": {
        "id": "9i109SwMfp-H"
      },
      "outputs": [],
      "source": [
        "\n",
        "\n",
        "# for i in range (10):\n",
        "#   plt.imshow(x_train[i],cmap=plt.cm.binary)\n",
        "#   plt.show()\n",
        "\n",
        "# print(x_test[0])\n"
      ]
    },
    {
      "cell_type": "code",
      "execution_count": null,
      "metadata": {
        "id": "5SRvxBm_h-he"
      },
      "outputs": [],
      "source": [
        "x_train = tf.keras.utils.normalize(x_train, axis=1)\n",
        "x_test = tf.keras.utils.normalize(x_test, axis=1)\n",
        "model = tf.keras.models.Sequential()\n",
        "model.add(tf.keras.layers.Flatten())\n",
        "# model.add(tf.keras.layers.Dense(10, activation=tf.nn.relu))\n",
        "model.add(tf.keras.layers.Dense(20, activation=tf.nn.relu))\n",
        "model.add(tf.keras.layers.Dense(10, activation=tf.nn.softmax))\n",
        "model.compile(optimizer='adam',\n",
        "              loss='sparse_categorical_crossentropy',\n",
        "              metrics=['accuracy'])\n",
        "\n",
        "model.fit(x_train, y_train, epochs=3)"
      ]
    },
    {
      "cell_type": "code",
      "execution_count": null,
      "metadata": {
        "id": "h4KKWi7ziEM8"
      },
      "outputs": [],
      "source": [
        "model.summary()\n",
        "\n",
        "val_loss, val_acc = model.evaluate(x_test, y_test)\n",
        "print(val_loss)\n",
        "print(val_acc)"
      ]
    },
    {
      "cell_type": "code",
      "execution_count": null,
      "metadata": {
        "id": "_C_r1rGGjBlw"
      },
      "outputs": [],
      "source": [
        "predictions = model.predict(x_test)\n",
        "print(predictions)"
      ]
    },
    {
      "cell_type": "code",
      "execution_count": null,
      "metadata": {
        "id": "aPPteh4PjI3C"
      },
      "outputs": [],
      "source": [
        "test_var = 13\n",
        "\n",
        "print(np.argmax(predictions[test_var]))\n",
        "np.savetxt('xtest.csv', x_test[test_var], delimiter=',')\n",
        "\n",
        "plt.imshow(x_test[test_var],cmap=plt.cm.binary)\n",
        "plt.show()"
      ]
    },
    {
      "cell_type": "code",
      "execution_count": null,
      "metadata": {
        "id": "hmk7lzpAliY8"
      },
      "outputs": [],
      "source": [
        "model.save('20-10.h5')"
      ]
    },
    {
      "cell_type": "code",
      "execution_count": null,
      "metadata": {
        "id": "7mZkhfMN_Vl_"
      },
      "outputs": [],
      "source": [
        "for layerNum, layer in enumerate(model.layers):\n",
        "    weights = layer.get_weights()[0]\n",
        "    biases = layer.get_weights()[1]\n",
        "\n",
        "    for toNeuronNum, bias in enumerate(biases):\n",
        "        print(f'{layerNum}B -> L{layerNum+1}N{toNeuronNum}: {bias}')\n",
        "\n",
        "    for fromNeuronNum, wgt in enumerate(weights):\n",
        "        for toNeuronNum, wgt2 in enumerate(wgt):\n",
        "            print(f'L{layerNum}N{fromNeuronNum} \\\n",
        "                  -> L{layerNum+1}N{toNeuronNum} = {wgt2}')\n"
      ]
    },
    {
      "cell_type": "code",
      "execution_count": null,
      "metadata": {
        "id": "L91OqkS_AIOa"
      },
      "outputs": [],
      "source": [
        ""
      ]
    },
    {
      "cell_type": "code",
      "execution_count": null,
      "metadata": {
        "id": "9WlfXbp0AJIb"
      },
      "outputs": [],
      "source": [
        "tflname = \"tf_lite_model.tflite\"\n",
        "tf_lite_converter = tf.lite.TFLiteConverter.from_keras_model(model)\n",
        "tflite_model = tf_lite_converter.convert()\n",
        "open(name, \"wb\").write(tflite_model)\n",
        "convert_bytes(get_file_size(TF_LITE_MODEL_FILE_NAME), \"KB\")"
      ]
    },
    {
      "cell_type": "code",
      "execution_count": null,
      "metadata": {
        "id": "HYbmj15EPP3_"
      },
      "outputs": [],
      "source": [
        "# def imageprepare(argv):\n",
        "#     \"\"\"\n",
        "#     This function returns the pixel values.\n",
        "#     The imput is a png file location.\n",
        "#     \"\"\"\n",
        "#     im = Image.open(argv).convert('L')\n",
        "#     width = float(im.size[0])\n",
        "#     height = float(im.size[1])\n",
        "#     newImage = Image.new('L', (28, 28), (255))  # creates white canvas of 28x28 pixels\n",
        "\n",
        "#     if width > height:  # check which dimension is bigger\n",
        "#         # Width is bigger. Width becomes 20 pixels.\n",
        "#         nheight = int(round((20.0 / width * height), 0))  # resize height according to ratio width\n",
        "#         if (nheight == 0):  # rare case but minimum is 1 pixel\n",
        "#             nheight = 1\n",
        "#             # resize and sharpen\n",
        "#         img = im.resize((20, nheight), Image.ANTIALIAS).filter(ImageFilter.SHARPEN)\n",
        "#         wtop = int(round(((28 - nheight) / 2), 0))  # calculate horizontal position\n",
        "#         newImage.paste(img, (4, wtop))  # paste resized image on white canvas\n",
        "#     else:\n",
        "#         # Height is bigger. Heigth becomes 20 pixels.\n",
        "#         nwidth = int(round((20.0 / height * width), 0))  # resize width according to ratio height\n",
        "#         if (nwidth == 0):  # rare case but minimum is 1 pixel\n",
        "#             nwidth = 1\n",
        "#             # resize and sharpen\n",
        "#         img = im.resize((nwidth, 20), Image.ANTIALIAS).filter(ImageFilter.SHARPEN)\n",
        "#         wleft = int(round(((28 - nwidth) / 2), 0))  # caculate vertical pozition\n",
        "#         newImage.paste(img, (wleft, 4))  # paste resized image on white canvas\n",
        "\n",
        "#     # newImage.save(\"sample.png\n",
        "\n",
        "#     tv = list(newImage.getdata())  # get pixel values\n",
        "\n",
        "#     # normalize pixels to 0 and 1. 0 is pure white, 1 is pure black.\n",
        "#     tva = [(255 - x) * 1.0 / 255.0 for x in tv]\n",
        "#     print(tva)\n",
        "#     return tva"
      ]
    },
    {
      "cell_type": "code",
      "execution_count": null,
      "metadata": {
        "id": "hD5xXNuJSaOQ"
      },
      "outputs": [],
      "source": [
        "# print(imageprepare('./2-000.png'))"
      ]
    },
    {
      "cell_type": "code",
      "execution_count": null,
      "metadata": {
        "id": "IZ19TnWNz8et"
      },
      "outputs": [],
      "source": [
        "# converter = tf.lite.TFLiteConverter.from_keras_model(model)\n",
        "# converter.optimizations = [tf.lite.Optimize.DEFAULT]\n",
        "# tflite_model = converter.convert()\n",
        "\n",
        "# with open('model.tflite', 'wb') as f:\n",
        "#   f.write(tflite_model)"
      ]
    },
    {
      "cell_type": "code",
      "execution_count": null,
      "metadata": {
        "id": "UtV-9fryDOhq"
      },
      "outputs": [],
      "source": [
        "# source_text, header_text = convert_bytes_to_c_source(tflite_model,  \"model\")\n",
        "\n",
        "# with  open('model.h',  'w')  as  file:\n",
        "#     file.write(header_text)\n",
        "\n",
        "# with  open('model.cc',  'w')  as  file:\n",
        "#     file.write(source_text)"
      ]
    },
    {
      "cell_type": "code",
      "execution_count": null,
      "metadata": {
        "id": "mUhegIzQG7fd"
      },
      "outputs": [],
      "source": [
        "# tflmodel = tf.lite.Interpreter('model.tflite')\n",
        "\n",
        "# tflmodel_predictions = []\n",
        "\n",
        "# tflmodel.allocate_tensors()\n",
        "\n",
        "# tflmodel_input_index = tflmodel.get_input_details()[0][\"index\"]\n",
        "# tflmodel_output_index = tflmodel.get_output_details()[0][\"index\"]\n",
        "# print(tflmodel_input_index)\n",
        "# print(tflmodel_input_index)\n",
        "\n",
        "# for x_value in x_test:\n",
        "#     x_value_tensor = tf.convert_to_tensor([[x_value]], dtype=np.float32)\n",
        "#     tflmodel.set_tensor(0, x_value_tensor)\n",
        "#     tflmodel.invoke()\n",
        "#     tflmodel_predictions.append(tflmodel.get_tensor(tflmodel_output_index)[0])\n",
        "\n",
        "# plt.clf()\n",
        "# plt.title('Comparison of various models against actual values')\n",
        "# plt.plot(x_test, y_test, 'bo', label='Actual')\n",
        "# plt.plot(x_test, predictions, 'ro', label='Original predictions')\n",
        "# plt.plot(x_test, tflmodel_predictions, 'bx', label='Lite predictions')\n",
        "# plt.legend()\n",
        "# plt.show()\n",
        "    "
      ]
    }
  ],
  "metadata": {
    "accelerator": "GPU",
    "colab": {
      "collapsed_sections": [],
      "name": "mnist.ipynb",
      "provenance": []
    },
    "kernelspec": {
      "display_name": "Python 3",
      "name": "python3"
    },
    "language_info": {
      "name": "python"
    }
  },
  "nbformat": 4,
  "nbformat_minor": 0
}